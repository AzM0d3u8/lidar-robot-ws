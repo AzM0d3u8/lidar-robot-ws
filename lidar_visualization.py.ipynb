{
 "cells": [
  {
   "cell_type": "code",
   "execution_count": null,
   "metadata": {
    "colab": {
     "base_uri": "https://localhost:8080/",
     "height": 1000
    },
    "executionInfo": {
     "elapsed": 38938,
     "status": "error",
     "timestamp": 1689816129495,
     "user": {
      "displayName": "Adnan Safin",
      "userId": "14910176746655103272"
     },
     "user_tz": -360
    },
    "id": "cCxhaD_tT5pP",
    "outputId": "98d44c79-c85d-4050-e5de-9079d4d34155"
   },
   "outputs": [
    {
     "name": "stdout",
     "output_type": "stream",
     "text": [
      "Requirement already satisfied: pygame in c:\\users\\user\\appdata\\local\\packages\\pythonsoftwarefoundation.python.3.11_qbz5n2kfra8p0\\localcache\\local-packages\\python311\\site-packages (2.6.1)\n",
      "Note: you may need to restart the kernel to use updated packages.\n"
     ]
    },
    {
     "name": "stderr",
     "output_type": "stream",
     "text": [
      "\n",
      "[notice] A new release of pip is available: 24.0 -> 25.0.1\n",
      "[notice] To update, run: C:\\Users\\User\\AppData\\Local\\Microsoft\\WindowsApps\\PythonSoftwareFoundation.Python.3.11_qbz5n2kfra8p0\\python.exe -m pip install --upgrade pip\n"
     ]
    },
    {
     "name": "stdout",
     "output_type": "stream",
     "text": [
      "Requirement already satisfied: pyserial in c:\\users\\user\\appdata\\local\\packages\\pythonsoftwarefoundation.python.3.11_qbz5n2kfra8p0\\localcache\\local-packages\\python311\\site-packages (3.5)\n"
     ]
    },
    {
     "name": "stderr",
     "output_type": "stream",
     "text": [
      "\n",
      "[notice] A new release of pip is available: 24.0 -> 25.0.1\n",
      "[notice] To update, run: C:\\Users\\User\\AppData\\Local\\Microsoft\\WindowsApps\\PythonSoftwareFoundation.Python.3.11_qbz5n2kfra8p0\\python.exe -m pip install --upgrade pip\n"
     ]
    },
    {
     "name": "stdout",
     "output_type": "stream",
     "text": [
      "Requirement already satisfied: numpy in c:\\users\\user\\appdata\\local\\packages\\pythonsoftwarefoundation.python.3.11_qbz5n2kfra8p0\\localcache\\local-packages\\python311\\site-packages (2.2.4)\n"
     ]
    },
    {
     "name": "stderr",
     "output_type": "stream",
     "text": [
      "\n",
      "[notice] A new release of pip is available: 24.0 -> 25.0.1\n",
      "[notice] To update, run: C:\\Users\\User\\AppData\\Local\\Microsoft\\WindowsApps\\PythonSoftwareFoundation.Python.3.11_qbz5n2kfra8p0\\python.exe -m pip install --upgrade pip\n"
     ]
    },
    {
     "name": "stdout",
     "output_type": "stream",
     "text": [
      "Requirement already satisfied: websockets in c:\\users\\user\\appdata\\local\\packages\\pythonsoftwarefoundation.python.3.11_qbz5n2kfra8p0\\localcache\\local-packages\\python311\\site-packages (15.0.1)\n"
     ]
    },
    {
     "name": "stderr",
     "output_type": "stream",
     "text": [
      "\n",
      "[notice] A new release of pip is available: 24.0 -> 25.0.1\n",
      "[notice] To update, run: C:\\Users\\User\\AppData\\Local\\Microsoft\\WindowsApps\\PythonSoftwareFoundation.Python.3.11_qbz5n2kfra8p0\\python.exe -m pip install --upgrade pip\n"
     ]
    },
    {
     "name": "stdout",
     "output_type": "stream",
     "text": [
      "Requirement already satisfied: keyboard in c:\\users\\user\\appdata\\local\\packages\\pythonsoftwarefoundation.python.3.11_qbz5n2kfra8p0\\localcache\\local-packages\\python311\\site-packages (0.13.5)\n"
     ]
    },
    {
     "name": "stderr",
     "output_type": "stream",
     "text": [
      "\n",
      "[notice] A new release of pip is available: 24.0 -> 25.0.1\n",
      "[notice] To update, run: C:\\Users\\User\\AppData\\Local\\Microsoft\\WindowsApps\\PythonSoftwareFoundation.Python.3.11_qbz5n2kfra8p0\\python.exe -m pip install --upgrade pip\n",
      "\n",
      "[notice] A new release of pip is available: 24.0 -> 25.0.1\n",
      "[notice] To update, run: C:\\Users\\User\\AppData\\Local\\Microsoft\\WindowsApps\\PythonSoftwareFoundation.Python.3.11_qbz5n2kfra8p0\\python.exe -m pip install --upgrade pip\n"
     ]
    },
    {
     "name": "stdout",
     "output_type": "stream",
     "text": [
      "Requirement already satisfied: nest_asyncio in c:\\users\\user\\appdata\\local\\packages\\pythonsoftwarefoundation.python.3.11_qbz5n2kfra8p0\\localcache\\local-packages\\python311\\site-packages (1.6.0)\n",
      "pygame 2.6.1 (SDL 2.28.4, Python 3.11.9)\n",
      "Hello from the pygame community. https://www.pygame.org/contribute.html\n"
     ]
    },
    {
     "data": {
      "text/plain": [
       "<Task pending name='Task-1' coro=<main() running at C:\\Users\\User\\AppData\\Local\\Temp\\ipykernel_6604\\504718009.py:140>>"
      ]
     },
     "execution_count": 1,
     "metadata": {},
     "output_type": "execute_result"
    },
    {
     "ename": "",
     "evalue": "",
     "output_type": "error",
     "traceback": [
      "\u001b[1;31mThe Kernel crashed while executing code in the current cell or a previous cell. \n",
      "\u001b[1;31mPlease review the code in the cell(s) to identify a possible cause of the failure. \n",
      "\u001b[1;31mClick <a href='https://aka.ms/vscodeJupyterKernelCrash'>here</a> for more info. \n",
      "\u001b[1;31mView Jupyter <a href='command:jupyter.viewOutput'>log</a> for further details."
     ]
    }
   ],
   "source": [
    "%pip install pygame\n",
    "!pip install pyserial\n",
    "!pip install numpy\n",
    "!pip install websockets\n",
    "!pip install keyboard\n",
    "!pip install nest_asyncio\n",
    "\n",
    "import pygame\n",
    "import math\n",
    "import serial\n",
    "import numpy\n",
    "import asyncio\n",
    "import nest_asyncio\n",
    "import websockets\n",
    "import keyboard\n",
    "\n",
    "# Apply asyncio fix for Jupyter\n",
    "nest_asyncio.apply()\n",
    "\n",
    "pygame.init()\n",
    "\n",
    "# Constants based on lidar resolution\n",
    "LIDAR_RESOLUTION = 80\n",
    "VISUALIZATION_RESOLUTION = 80\n",
    "\n",
    "# Global variables\n",
    "distances_list = []\n",
    "mode = 'm'\n",
    "bs = 0\n",
    "first_run = True\n",
    "\n",
    "async def recv(websocket):\n",
    "    global distances_list, first_run\n",
    "    async for message in websocket:\n",
    "        d = message.split(\",\")[:-1]\n",
    "        if first_run:\n",
    "            distances_list = d\n",
    "            first_run = False\n",
    "        else:\n",
    "            distances_list = filterDistancesList(d)\n",
    "        await GameUpdate()\n",
    "        await websocket.send(checkKeys())\n",
    "\n",
    "def GenerateLinePositions(numberOfLines):\n",
    "    angle = 360 / numberOfLines\n",
    "    lines = []\n",
    "    for x in range(numberOfLines):\n",
    "        lines.append([\n",
    "            300 * math.cos(x * angle / 180 * math.pi),\n",
    "            300 * math.sin(x * angle / 180 * math.pi)\n",
    "        ])\n",
    "    return lines\n",
    "\n",
    "def checkKeys():\n",
    "    global mode\n",
    "    if keyboard.is_pressed('a'):\n",
    "        mode = 'a'\n",
    "    elif keyboard.is_pressed('m'):\n",
    "        mode = 'm'\n",
    "\n",
    "    if mode == 'a':\n",
    "        return directionAlgorithm()\n",
    "    elif mode == 'm':\n",
    "        if keyboard.is_pressed('up'):\n",
    "            return 'forward'\n",
    "        elif keyboard.is_pressed('down'):\n",
    "            return 'stop'\n",
    "        elif keyboard.is_pressed('left'):\n",
    "            return 'left'\n",
    "        elif keyboard.is_pressed('right'):\n",
    "            return 'right'\n",
    "        else:\n",
    "            return 'stop'\n",
    "\n",
    "def directionAlgorithm():\n",
    "    global bs\n",
    "    alg_dir = 'stop'\n",
    "    biggestSpace = [0, 0]\n",
    "    for a in range(int(len(distances_list)/2)-10):\n",
    "        sum = 1\n",
    "        for b in range(10):\n",
    "            sum += int(distances_list[2*a + 2*b]) * int(distances_list[2*a + 2*b + 1])\n",
    "        if biggestSpace[1] < sum:\n",
    "            biggestSpace[0] = a + 5\n",
    "            biggestSpace[1] = sum\n",
    "            bs = a * 2\n",
    "    if biggestSpace[0] > 60 or biggestSpace[0] < 20:\n",
    "        alg_dir = 'left'\n",
    "    elif 20 < biggestSpace[0] < 50:\n",
    "        alg_dir = 'right'\n",
    "    else:\n",
    "        alg_dir = 'forward'\n",
    "    return alg_dir\n",
    "\n",
    "def filterDistancesList(d_list):\n",
    "    filtered_list = []\n",
    "    for i in range(int(len(d_list)/2)):\n",
    "        if int(d_list[i*2 + 1]) < 100:\n",
    "            filtered_list.append(distances_list[i*2])\n",
    "            filtered_list.append(distances_list[i*2 + 1])\n",
    "        elif int(d_list[i*2]) > 7500:\n",
    "            filtered_list.append(distances_list[i*2])\n",
    "            filtered_list.append(distances_list[i*2 + 1])\n",
    "        else:\n",
    "            filtered_list.append(d_list[i*2])\n",
    "            filtered_list.append(d_list[i*2 + 1])\n",
    "    return filtered_list\n",
    "\n",
    "def map(val, in_min, in_max, out_min, out_max):\n",
    "    return (val - in_min) * (out_max - out_min) / (in_max - in_min) + out_min\n",
    "\n",
    "# Generate line positions\n",
    "line_positions = GenerateLinePositions(VISUALIZATION_RESOLUTION)\n",
    "\n",
    "# Set up the drawing window\n",
    "screen = pygame.display.set_mode([800, 800])\n",
    "sysfont = pygame.font.get_default_font()\n",
    "font1 = pygame.font.SysFont(sysfont, 72)\n",
    "\n",
    "async def GameUpdate():\n",
    "    if len(distances_list) == VISUALIZATION_RESOLUTION * 2:\n",
    "        for event in pygame.event.get():\n",
    "            if event.type == pygame.QUIT:\n",
    "                return\n",
    "\n",
    "        screen.fill((20, 10, 30))\n",
    "\n",
    "        for x in range(VISUALIZATION_RESOLUTION):\n",
    "            a = int(distances_list[x*2]) / 2000\n",
    "            if (mode == 'a') and int(map(bs, 0, 160, 80, 0)) == x:\n",
    "                pygame.draw.aaline(screen, (0, 255, 0), (400, 400), (line_positions[x][0]+400, line_positions[x][1]+400), 4)\n",
    "            else:\n",
    "                brightness = int(distances_list[x*2 + 1])\n",
    "                pygame.draw.aaline(screen, (brightness, brightness, brightness), (400, 400), (line_positions[x][0]*a+400, line_positions[x][1]*a+400), 4)\n",
    "\n",
    "        pygame.draw.circle(screen, pygame.Color(100, 100, 120), (400, 400), 60)\n",
    "        pygame.display.flip()\n",
    "        pygame.image.save(screen, \"map_image.png\")\n",
    "\n",
    "async def main():\n",
    "    async with websockets.serve(recv, \"192.168.0.107\", 8084):\n",
    "        await asyncio.Future()  # Run forever\n",
    "\n",
    "# Start server in notebook environment\n",
    "loop = asyncio.get_event_loop()\n",
    "loop.create_task(main())\n"
   ]
  }
 ],
 "metadata": {
  "colab": {
   "authorship_tag": "ABX9TyM1um3fv4JedRnsnROQ4lR+",
   "provenance": []
  },
  "kernelspec": {
   "display_name": "Python 3",
   "name": "python3"
  },
  "language_info": {
   "codemirror_mode": {
    "name": "ipython",
    "version": 3
   },
   "file_extension": ".py",
   "mimetype": "text/x-python",
   "name": "python",
   "nbconvert_exporter": "python",
   "pygments_lexer": "ipython3",
   "version": "3.11.9"
  }
 },
 "nbformat": 4,
 "nbformat_minor": 0
}
